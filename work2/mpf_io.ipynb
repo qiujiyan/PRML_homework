{
 "cells": [
  {
   "cell_type": "code",
   "execution_count": 60,
   "metadata": {},
   "outputs": [],
   "source": [
    "import struct\n",
    "import os\n",
    "import numpy as np\n",
    "from tqdm import tqdm"
   ]
  },
  {
   "cell_type": "code",
   "execution_count": 61,
   "metadata": {},
   "outputs": [],
   "source": [
    "def read_file_header(filename):\n",
    "    with open(filename, 'rb') as f:\n",
    "        # Read Size of Header\n",
    "        size_of_header = struct.unpack('I', f.read(4))[0]  # Long int, 4B\n",
    "        \n",
    "        # Read Format code\n",
    "        format_code = f.read(8).decode('ascii').rstrip('\\0')  # ASCII, 8B\n",
    "        \n",
    "        # Read the illustration text up to null terminator\n",
    "        illustration = []\n",
    "        while True:\n",
    "            char = f.read(1)\n",
    "            if char == b'\\0':\n",
    "                break\n",
    "            illustration.append(char)\n",
    "        illustration = b''.join(illustration).decode('ascii')\n",
    "        \n",
    "        # Read Code type\n",
    "        code_type = f.read(20).decode('ascii').rstrip('\\0')  # ASCII, 20B\n",
    "        \n",
    "        # Read Code length\n",
    "        code_length = struct.unpack('h', f.read(2))[0]  # Short int, 2B\n",
    "        \n",
    "        # Read Data type\n",
    "        data_type = f.read(20).decode('ascii').rstrip('\\0')  # ASCII, 20B\n",
    "        \n",
    "        # Read Sample number\n",
    "        sample_number = struct.unpack('I', f.read(4))[0]  # Long int, 4B\n",
    "        \n",
    "        # Read Dimensionality (D)\n",
    "        dimensionality = struct.unpack('I', f.read(4))[0]  # Long int, 4B\n",
    "\n",
    "        samples = []\n",
    "\n",
    "        for _ in range(sample_number):\n",
    "            # Read the Label\n",
    "            label = f.read(code_length).decode('GBK').rstrip('\\0')\n",
    "\n",
    "            # Calculate vector size based on Data type\n",
    "            type_format = {\n",
    "                'unsigned char': 'B',\n",
    "                'short': 'h',\n",
    "                'float': 'f'\n",
    "            }.get(data_type.strip())\n",
    "            if type_format is None:\n",
    "                raise ValueError(f\"Unsupported data type: {data_type}\")\n",
    "\n",
    "            vector_size = dimensionality * struct.calcsize(type_format)\n",
    "            vector = struct.unpack(f'{dimensionality}{type_format}', f.read(vector_size))\n",
    "            \n",
    "            samples.append({\n",
    "                'label': label,\n",
    "                'vector': vector\n",
    "            })\n",
    "\n",
    "\n",
    "        if f.tell() != os.path.getsize(filename):\n",
    "            raise ValueError(\"文件还未完全读取!\")\n",
    "\n",
    "\n",
    "        return {\n",
    "            \"size_of_header\": size_of_header,\n",
    "            \"format_code\": format_code,\n",
    "            \"illustration\": illustration,\n",
    "            \"code_type\": code_type,\n",
    "            \"code_length\": code_length,\n",
    "            \"data_type\": data_type,\n",
    "            \"sample_number\": sample_number,\n",
    "            \"dimensionality\": dimensionality,\n",
    "            \"samples\": samples\n",
    "        }"
   ]
  },
  {
   "cell_type": "code",
   "execution_count": 81,
   "metadata": {},
   "outputs": [
    {
     "name": "stderr",
     "output_type": "stream",
     "text": [
      "100%|██████████| 60/60 [00:03<00:00, 16.80it/s]\n"
     ]
    }
   ],
   "source": [
    "train_dir = '/Users/hpc-419/Downloads/OLHWDB1.1tst/'\n",
    "anno=[]\n",
    "dataset = []\n",
    "for filename in tqdm(os.listdir(train_dir)):\n",
    "    if not filename.endswith('.mpf'):\n",
    "        continue\n",
    "    file_path= os.path.join(train_dir,filename)\n",
    "    data = read_file_header(file_path)\n",
    "    for j in data['samples']:\n",
    "        anno.append(j['label'])\n",
    "        dataset.append(j['vector'])\n",
    "        \n",
    "    # print(len(data['samples']))\n",
    "    # for key, value in data.items():\n",
    "    #     if key!=\"samples\":\n",
    "    #         print(f\"{key}: {value}\")"
   ]
  },
  {
   "cell_type": "code",
   "execution_count": 82,
   "metadata": {},
   "outputs": [
    {
     "data": {
      "text/plain": [
       "224559"
      ]
     },
     "execution_count": 82,
     "metadata": {},
     "output_type": "execute_result"
    }
   ],
   "source": [
    "len(dataset)"
   ]
  },
  {
   "cell_type": "code",
   "execution_count": 83,
   "metadata": {},
   "outputs": [],
   "source": [
    "dataset_np = np.array(dataset,dtype='uint8')\n",
    "np.save('/Users/hpc-419/dataset/dataset_test.npy',dataset_np)"
   ]
  },
  {
   "cell_type": "code",
   "execution_count": 84,
   "metadata": {},
   "outputs": [
    {
     "data": {
      "text/plain": [
       "(224559, 512)"
      ]
     },
     "execution_count": 84,
     "metadata": {},
     "output_type": "execute_result"
    }
   ],
   "source": [
    "dataset_np.shape"
   ]
  },
  {
   "cell_type": "code",
   "execution_count": 85,
   "metadata": {},
   "outputs": [
    {
     "data": {
      "text/plain": [
       "dtype('uint8')"
      ]
     },
     "execution_count": 85,
     "metadata": {},
     "output_type": "execute_result"
    }
   ],
   "source": [
    "dataset_np.dtype"
   ]
  },
  {
   "cell_type": "code",
   "execution_count": 86,
   "metadata": {},
   "outputs": [
    {
     "data": {
      "text/plain": [
       "250"
      ]
     },
     "execution_count": 86,
     "metadata": {},
     "output_type": "execute_result"
    }
   ],
   "source": [
    "dataset_np.max()"
   ]
  },
  {
   "cell_type": "code",
   "execution_count": 87,
   "metadata": {},
   "outputs": [],
   "source": [
    "import json\n",
    "with open('/Users/hpc-419/dataset/anno_test.json','w') as f:\n",
    "    json.dump(anno,f)"
   ]
  },
  {
   "cell_type": "code",
   "execution_count": 88,
   "metadata": {},
   "outputs": [
    {
     "data": {
      "text/plain": [
       "'蜒'"
      ]
     },
     "execution_count": 88,
     "metadata": {},
     "output_type": "execute_result"
    }
   ],
   "source": [
    "anno[0]"
   ]
  },
  {
   "cell_type": "code",
   "execution_count": null,
   "metadata": {},
   "outputs": [],
   "source": []
  }
 ],
 "metadata": {
  "kernelspec": {
   "display_name": "base",
   "language": "python",
   "name": "python3"
  },
  "language_info": {
   "codemirror_mode": {
    "name": "ipython",
    "version": 3
   },
   "file_extension": ".py",
   "mimetype": "text/x-python",
   "name": "python",
   "nbconvert_exporter": "python",
   "pygments_lexer": "ipython3",
   "version": "3.7.4"
  },
  "orig_nbformat": 4
 },
 "nbformat": 4,
 "nbformat_minor": 2
}
