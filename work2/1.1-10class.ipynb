{
 "cells": [
  {
   "cell_type": "code",
   "execution_count": 7,
   "metadata": {},
   "outputs": [],
   "source": [
    "from sklearn.datasets import *\n",
    "from sklearn.naive_bayes import GaussianNB\n",
    "from sklearn.model_selection import *\n",
    "from LVQ21 import LVQ21\n",
    "from LVQ21sp import LVQ21sp\n",
    "import numpy as np\n",
    "from sklearn.metrics import accuracy_score\n",
    "from sklvq.models import GLVQ,GMLVQ,LGMLVQ\n",
    "from sklearn.decomposition import PCA\n",
    "\n",
    "import  numpy as np"
   ]
  },
  {
   "cell_type": "code",
   "execution_count": 2,
   "metadata": {},
   "outputs": [],
   "source": [
    "X_train = np.load(r\"D:\\DataSet\\OLHWDB1.1trn-data.npy\")\n",
    "X_test = np.load(r\"D:\\DataSet\\OLHWDB1.1tst-data.npy\")\n",
    "y_train = np.load(r\"D:\\DataSet\\OLHWDB1.1trn-label.npy\")\n",
    "y_test  = np.load(r\"D:\\DataSet\\OLHWDB1.1tst-label.npy\")"
   ]
  },
  {
   "cell_type": "code",
   "execution_count": 3,
   "metadata": {},
   "outputs": [],
   "source": [
    "X_train_10c = X_train[y_train<10]\n",
    "y_train_10c = y_train[y_train<10]\n",
    "\n",
    "X_test_10c = X_test[y_test<10]\n",
    "y_test_10c = y_test[y_test<10]"
   ]
  },
  {
   "cell_type": "code",
   "execution_count": 4,
   "metadata": {},
   "outputs": [],
   "source": [
    "pca = PCA(n_components=200)\n",
    "\n",
    "X_train_transformed = pca.fit_transform(X_train_10c)\n",
    "X_test_transformed = pca.transform(X_test_10c)"
   ]
  },
  {
   "cell_type": "code",
   "execution_count": 10,
   "metadata": {},
   "outputs": [
    {
     "name": "stdout",
     "output_type": "stream",
     "text": [
      "1 0.9733333333333334\n",
      "2 0.9733333333333334\n",
      "3 0.9733333333333334\n",
      "4 0.9733333333333334\n"
     ]
    }
   ],
   "source": [
    "for i in [1,2,3,4]:\n",
    "    m = GLVQ(prototype_n_per_class=i)\n",
    "    m.fit(X_train_transformed, y_train_10c)\n",
    "    y_per = m.predict(X_test_transformed)\n",
    "    acc = accuracy_score(y_per,y_test_10c)\n",
    "    print(i,acc)"
   ]
  },
  {
   "cell_type": "code",
   "execution_count": 11,
   "metadata": {},
   "outputs": [
    {
     "name": "stdout",
     "output_type": "stream",
     "text": [
      "1 0.2866666666666667\n",
      "2 0.49333333333333335\n",
      "3 0.84\n",
      "4 0.8983333333333333\n"
     ]
    }
   ],
   "source": [
    "for i in [1,2,3,4]:\n",
    "    m = LVQ21sp(i)\n",
    "    m.fit(X_train_transformed, y_train_10c)\n",
    "    y_per = m.predict(X_test_transformed)\n",
    "    acc = accuracy_score(y_per,y_test_10c)\n",
    "    print(i,acc)"
   ]
  },
  {
   "cell_type": "code",
   "execution_count": null,
   "metadata": {},
   "outputs": [],
   "source": []
  }
 ],
 "metadata": {
  "kernelspec": {
   "display_name": "base",
   "language": "python",
   "name": "python3"
  },
  "language_info": {
   "codemirror_mode": {
    "name": "ipython",
    "version": 3
   },
   "file_extension": ".py",
   "mimetype": "text/x-python",
   "name": "python",
   "nbconvert_exporter": "python",
   "pygments_lexer": "ipython3",
   "version": "3.9.7"
  }
 },
 "nbformat": 4,
 "nbformat_minor": 2
}
